{
 "cells": [
  {
   "cell_type": "code",
   "execution_count": 18,
   "metadata": {},
   "outputs": [],
   "source": [
    "import warnings\n",
    "warnings.filterwarnings('ignore')\n",
    "\n",
    "# import gensim\n",
    "from gensim.models.ldamodel import LdaModel\n",
    "from gensim.models import Phrases\n",
    "from gensim import corpora\n",
    "\n",
    "from ast import literal_eval\n",
    "from pickle import dump\n",
    "\n",
    "from gensim.models.coherencemodel import CoherenceModel\n",
    "#show graphs\n",
    "import matplotlib.pyplot as plt\n",
    "\n",
    "import pyLDAvis.gensim"
   ]
  },
  {
   "cell_type": "code",
   "execution_count": 19,
   "metadata": {},
   "outputs": [],
   "source": [
    "#function to compute coherence values\n",
    "def compute_coherence_values(dictionary, corpus, texts, limit, start):\n",
    "    coherence_values = []\n",
    "    for num_topics in range(start, limit):\n",
    "        model = LdaModel(corpus=corpus, id2word=dictionary, num_topics=num_topics, random_state=500)\n",
    "        coherencemodel = CoherenceModel(model=model, texts=texts, dictionary=dictionary, coherence='c_v')\n",
    "        coherence_values.append(coherencemodel.get_coherence())\n",
    "        \n",
    "    return coherence_values\n",
    "\n",
    "def make_corpus(data):\n",
    "    #Make list of list\n",
    "    mylist = []\n",
    "\n",
    "    for i,j in data.iterrows():\n",
    "        tmp = literal_eval(j.content)\n",
    "        mylist.append(tmp)\n",
    "\n",
    "    # Add bigrams and trigrams to docs,minimum count 10 means only that appear 10 times or more.\n",
    "    bigram = Phrases(mylist, min_count=10)\n",
    "    for idx in range(len(mylist)):\n",
    "        for token in bigram[mylist[idx]]:\n",
    "            if '_' in token:\n",
    "                # Token is a bigram, add to document.\n",
    "                mylist[idx].append(token)\n",
    "\n",
    "    # Create Dictionary\n",
    "    dictionary = corpora.Dictionary(mylist)\n",
    "\n",
    "    # Term Document Frequency\n",
    "    corpus = [dictionary.doc2bow(text) for text in mylist]\n",
    "    \n",
    "    dump(corpus, open('corpus_LDA.pkl', 'wb'))\n",
    "    dictionary.save('dictionary_LDA.gensim')\n",
    "    \n",
    "    return mylist,dictionary,corpus\n",
    "    \n",
    "def train(n_topic,corpus,dictionary):\n",
    "    # Build LDA model\n",
    "    lda_model = LdaModel(corpus=corpus,\n",
    "                        id2word=dictionary,\n",
    "                        num_topics=n_topic, \n",
    "                        random_state=666)\n",
    "\n",
    "    #Save Model\n",
    "    lda_model.save('lda.h5')\n",
    "    \n",
    "    return lda_model"
   ]
  },
  {
   "cell_type": "code",
   "execution_count": 20,
   "metadata": {},
   "outputs": [
    {
     "data": {
      "image/png": "[encoded data removed]",
      "text/plain": [
       "<Figure size 432x288 with 1 Axes>"
      ]
     },
     "metadata": {
      "needs_background": "light"
     },
     "output_type": "display_data"
    }
   ],
   "source": [
    "#Load Clean data\n",
    "data = pd.read_csv('data_berita_clean.csv')\n",
    "\n",
    "#Train\n",
    "mylist,dictionary,corpus = make_corpus(data)\n",
    "\n",
    "#search optimal topic number (5)\n",
    "start=5\n",
    "limit=20\n",
    "coherence_values = compute_coherence_values(dictionary, corpus=corpus, \n",
    "                                                        texts=mylist, start=start, limit=limit)\n",
    "\n",
    "x = range(start, limit)\n",
    "plt.plot(x, coherence_values)\n",
    "plt.xlabel(\"Num Topics\")\n",
    "plt.ylabel(\"Coherence score\")\n",
    "plt.legend((\"coherence_values\"), loc='best')\n",
    "plt.show()"
   ]
  },
  {
   "cell_type": "code",
   "execution_count": 21,
   "metadata": {},
   "outputs": [],
   "source": [
    "#Train\n",
    "n_topic = 5\n",
    "model = train(n_topic,corpus,dictionary)"
   ]
  },
  {
   "cell_type": "code",
   "execution_count": 22,
   "metadata": {},
   "outputs": [
    {
     "name": "stdout",
     "output_type": "stream",
     "text": [
      "(0, '0.012*\"orang\" + 0.011*\"ajar\" + 0.009*\"ilmu\" + 0.008*\"universitas\" + 0.008*\"mahasiswa\"')\n",
      "(1, '0.012*\"ajar\" + 0.009*\"orang\" + 0.008*\"sobat\" + 0.007*\"kuliah\" + 0.007*\"kerja\"')\n",
      "(2, '0.009*\"ajar\" + 0.007*\"universitas\" + 0.007*\"didik\" + 0.007*\"orang\" + 0.006*\"kuliah\"')\n",
      "(3, '0.011*\"orang\" + 0.011*\"kerja\" + 0.009*\"ajar\" + 0.007*\"kuliah\" + 0.007*\"teknik\"')\n",
      "(4, '0.016*\"orang\" + 0.010*\"kuliah\" + 0.007*\"ajar\" + 0.007*\"sobat\" + 0.006*\"program\"')\n"
     ]
    }
   ],
   "source": [
    "# Print the Keyword in the 10 topics\n",
    "topics = model.print_topics(num_words=5)\n",
    "for topic in topics:\n",
    "    print(topic)"
   ]
  },
  {
   "cell_type": "code",
   "execution_count": null,
   "metadata": {},
   "outputs": [],
   "source": [
    "# Visualize the topics\n",
    "pyLDAvis.enable_notebook()\n",
    "vis = pyLDAvis.gensim.prepare(model, corpus, dictionary)\n",
    "vis"
   ]
  }
 ],
 "metadata": {
  "kernelspec": {
   "display_name": "Python 3",
   "language": "python",
   "name": "python3"
  },
  "language_info": {
   "codemirror_mode": {
    "name": "ipython",
    "version": 3
   },
   "file_extension": ".py",
   "mimetype": "text/x-python",
   "name": "python",
   "nbconvert_exporter": "python",
   "pygments_lexer": "ipython3",
   "version": "3.6.9"
  }
 },
 "nbformat": 4,
 "nbformat_minor": 2
}
