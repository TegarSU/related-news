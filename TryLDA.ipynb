{
 "cells": [
  {
   "cell_type": "code",
   "execution_count": 1,
   "metadata": {},
   "outputs": [],
   "source": [
    "import warnings\n",
    "warnings.filterwarnings('ignore')\n",
    "\n",
    "# import gensim\n",
    "from gensim.models.ldamodel import LdaModel\n",
    "from gensim.models import Phrases\n",
    "from gensim import corpora, models\n",
    "\n",
    "# import spacy\n",
    "from spacy.lang.id import Indonesian\n",
    "nlp = Indonesian()  # use directly\n",
    "stopwords = spacy.lang.id.stop_words.STOP_WORDS \n",
    "stopwords |= {\"nya\"}\n",
    "from json import loads\n",
    "from ast import literal_eval\n",
    "from pickle import dump\n",
    "\n",
    "# from gensim import corpora, models\n",
    "from gensim.models.coherencemodel import CoherenceModel\n",
    "#show graphs\n",
    "import matplotlib.pyplot as plt"
   ]
  },
  {
   "cell_type": "code",
   "execution_count": 2,
   "metadata": {},
   "outputs": [],
   "source": [
    "# #Akronim\n",
    "def slang(tokenized_sentence):\n",
    "    slang_word_dict = loads(open(\"slang_word_dict.txt\", 'r').read())\n",
    "\n",
    "    for index in range(len(tokenized_sentence)):\n",
    "        for key, value in slang_word_dict.items():\n",
    "            for v in value:\n",
    "                if tokenized_sentence[index] == v:\n",
    "                    tokenized_sentence[index] = key\n",
    "                else:\n",
    "                    continue\n",
    "                    \n",
    "    return \" \".join(tokenized_sentence)\n",
    "\n",
    "def preprocessing(text):\n",
    "    text = re.sub('<[^<]+?>', '', str(text)) #remove tag\\n\",\n",
    "    text = text.lower() #lower\\n\",\n",
    "    text = re.sub(r'[^\\w]',' ',str(text)) #remove punct\\n\",\n",
    "    text = re.sub(r'\\s+', ' ', text) #remove white space\\n\",\n",
    "    text = [token.text for token in nlp(text)] #Token\n",
    "    text = slang(text)#slang word\n",
    "    text = stopword(text)\n",
    "#     text = [token.lemma_ for token in nlp(text) if token.lemma_ not in stopwords] #Lemma & stopword\n",
    "    \n",
    "    return text\n",
    "\n",
    "#function to compute coherence values\n",
    "def compute_coherence_values(dictionary, corpus, texts, limit, start, step):\n",
    "    coherence_values = []\n",
    "    model_list = []\n",
    "    for num_topics in range(start, limit, step):\n",
    "        model = LdaModel(corpus=corpus, id2word=dictionary, num_topics=num_topics, random_state=500)\n",
    "        model_list.append(model)\n",
    "        coherencemodel = CoherenceModel(model=model, texts=texts, dictionary=dictionary, coherence='c_v')\n",
    "        coherence_values.append(coherencemodel.get_coherence())\n",
    "        \n",
    "    return model_list, coherence_values"
   ]
  },
  {
   "cell_type": "code",
   "execution_count": 3,
   "metadata": {},
   "outputs": [],
   "source": [
    "#Load Clean data\n",
    "data = pd.read_csv('data_berita_clean.csv')\n",
    "\n",
    "#Make list of list\n",
    "mylist = []\n",
    "\n",
    "for i,j in data.iterrows():\n",
    "    tmp = literal_eval(j.content)\n",
    "    mylist.append(tmp)\n",
    "    \n",
    "# Add bigrams and trigrams to docs,minimum count 10 means only that appear 10 times or more.\n",
    "bigram = Phrases(mylist, min_count=3)\n",
    "trigram = Phrases(bigram[mylist])\n",
    "for idx in range(len(mylist)):\n",
    "    for token in bigram[mylist[idx]]:\n",
    "        if '_' in token:\n",
    "            # Token is a bigram, add to document.\n",
    "            mylist[idx].append(token)\n",
    "    for token in trigram[mylist[idx]]:\n",
    "        if '_' in token:\n",
    "            # Token is a bigram, add to document.\n",
    "            mylist[idx].append(token)\n",
    "    \n",
    "# Create Dictionary\n",
    "dictionary = corpora.Dictionary(mylist)\n",
    "\n",
    "# Term Document Frequency\n",
    "corpus = [dictionary.doc2bow(text) for text in mylist]\n",
    "\n",
    "dump(corpus, open('corpus_LDA.pkl', 'wb'))\n",
    "dictionary.save('dictionary_LDA.gensim')"
   ]
  },
  {
   "cell_type": "code",
   "execution_count": 5,
   "metadata": {},
   "outputs": [
    {
     "data": {
      "image/png": "[encoded data removed]",
      "text/plain": [
       "<Figure size 432x288 with 1 Axes>"
      ]
     },
     "metadata": {
      "needs_background": "light"
     },
     "output_type": "display_data"
    }
   ],
   "source": [
    "#search optimal topic number\n",
    "start=5\n",
    "limit=50\n",
    "step=1\n",
    "model_list, coherence_values = compute_coherence_values(dictionary, corpus=corpus, \n",
    "                                                        texts=mylist, start=start, limit=limit, step=step)\n",
    "\n",
    "x = range(start, limit, step)\n",
    "plt.plot(x, coherence_values)\n",
    "plt.xlabel(\"Num Topics\")\n",
    "plt.ylabel(\"Coherence score\")\n",
    "plt.legend((\"coherence_values\"), loc='best')\n",
    "plt.show()"
   ]
  },
  {
   "cell_type": "code",
   "execution_count": 6,
   "metadata": {},
   "outputs": [],
   "source": [
    "# Build LDA model\n",
    "NUM_TOPICS = 7\n",
    "lda_model = LdaModel(corpus=corpus,\n",
    "                    id2word=dictionary,\n",
    "                    num_topics=NUM_TOPICS, \n",
    "                    random_state=500)\n",
    "\n",
    "#Save Model\n",
    "lda_model.save('lda.h5')"
   ]
  },
  {
   "cell_type": "code",
   "execution_count": 4,
   "metadata": {},
   "outputs": [
    {
     "name": "stdout",
     "output_type": "stream",
     "text": [
      "[(217, 1)]\n",
      "[(0, 0.10016751), (1, 0.10078695), (2, 0.10132228), (3, 0.10023764), (4, 0.5974856)]\n"
     ]
    }
   ],
   "source": [
    "#Load Mode\n",
    "loaded_model = LdaModel.load('lda.h5')\n",
    "\n",
    "#Test new document\n",
    "new_doc = 'mempersiapkan diri untuk sbmptn'\n",
    "new_doc = preprocessing(new_doc)\n",
    "new_doc_bow = dictionary.doc2bow(new_doc)\n",
    "print(new_doc_bow)\n",
    "print(loaded_model.get_document_topics(new_doc_bow))"
   ]
  },
  {
   "cell_type": "code",
   "execution_count": 7,
   "metadata": {},
   "outputs": [
    {
     "name": "stdout",
     "output_type": "stream",
     "text": [
      "(0, '0.016*\"ajar\" + 0.010*\"orang\" + 0.009*\"sobat\" + 0.007*\"jurus\" + 0.005*\"manajemen\" + 0.004*\"milik\" + 0.004*\"sekolah\" + 0.004*\"kuliah\" + 0.004*\"didik\" + 0.004*\"kerja\"')\n",
      "(1, '0.010*\"sobat\" + 0.007*\"orang\" + 0.005*\"kerja\" + 0.005*\"ajar\" + 0.004*\"makan\" + 0.004*\"tugas\" + 0.003*\"kuliah\" + 0.003*\"beasiswa\" + 0.003*\"it_s\" + 0.003*\"tidur\"')\n",
      "(2, '0.010*\"jurus\" + 0.007*\"teknik\" + 0.007*\"statistika\" + 0.007*\"orang\" + 0.006*\"ilmu\" + 0.005*\"kerja\" + 0.005*\"sobat\" + 0.005*\"milik\" + 0.005*\"sistem_informasi\" + 0.004*\"mahasiswa\"')\n",
      "(3, '0.009*\"kuliah\" + 0.008*\"kerja\" + 0.007*\"kip\" + 0.007*\"jurus\" + 0.007*\"orang\" + 0.007*\"mahasiswa\" + 0.006*\"program\" + 0.005*\"milik\" + 0.005*\"sobat\" + 0.005*\"bantu_dana\"')\n",
      "(4, '0.017*\"jurus\" + 0.009*\"ajar\" + 0.007*\"sobat\" + 0.006*\"matematika\" + 0.005*\"ilmu\" + 0.005*\"kuliah\" + 0.005*\"milik\" + 0.004*\"orang\" + 0.004*\"universitas\" + 0.004*\"mahasiswa\"')\n",
      "(5, '0.011*\"orang\" + 0.009*\"jurus\" + 0.008*\"teknik\" + 0.008*\"sobat\" + 0.008*\"kuliah\" + 0.007*\"didik\" + 0.007*\"ajar\" + 0.005*\"mahasiswa\" + 0.005*\"ilmu\" + 0.004*\"milik\"')\n",
      "(6, '0.010*\"jurus\" + 0.008*\"orang\" + 0.007*\"sobat\" + 0.006*\"bahasa\" + 0.006*\"ilmu\" + 0.005*\"sbmptn\" + 0.005*\"ajar\" + 0.005*\"universitas\" + 0.005*\"mahasiswa\" + 0.005*\"sehat\"')\n"
     ]
    }
   ],
   "source": [
    "# Print the Keyword in the 10 topics\n",
    "topics = lda_model.print_topics(num_words=10)\n",
    "for topic in topics:\n",
    "    print(topic)"
   ]
  }
 ],
 "metadata": {
  "kernelspec": {
   "display_name": "Python 3",
   "language": "python",
   "name": "python3"
  },
  "language_info": {
   "codemirror_mode": {
    "name": "ipython",
    "version": 3
   },
   "file_extension": ".py",
   "mimetype": "text/x-python",
   "name": "python",
   "nbconvert_exporter": "python",
   "pygments_lexer": "ipython3",
   "version": "3.6.9"
  }
 },
 "nbformat": 4,
 "nbformat_minor": 2
}
