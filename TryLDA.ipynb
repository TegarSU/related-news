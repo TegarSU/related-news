{
 "cells": [
  {
   "cell_type": "code",
   "execution_count": 19,
   "metadata": {},
   "outputs": [],
   "source": [
    "import warnings\n",
    "warnings.filterwarnings('ignore')\n",
    "\n",
    "# import gensim\n",
    "from gensim.models.ldamodel import LdaModel\n",
    "from gensim.models import Phrases\n",
    "from gensim import corpora, models\n",
    "\n",
    "# import spacy\n",
    "from spacy.lang.id import Indonesian\n",
    "nlp = Indonesian()  # use directly\n",
    "stopwords = spacy.lang.id.stop_words.STOP_WORDS \n",
    "stopwords |= {\"nya\",\"jurus\"}\n",
    "from json import loads\n",
    "from ast import literal_eval\n",
    "from pickle import dump,load\n",
    "\n",
    "from gensim.models.coherencemodel import CoherenceModel\n",
    "#show graphs\n",
    "import matplotlib.pyplot as plt\n",
    "from gensim import similarities"
   ]
  },
  {
   "cell_type": "code",
   "execution_count": 20,
   "metadata": {},
   "outputs": [],
   "source": [
    "# #Akronim\n",
    "def slang(tokenized_sentence):\n",
    "    slang_word_dict = loads(open(\"slang_word_dict.txt\", 'r').read())\n",
    "\n",
    "    for index in range(len(tokenized_sentence)):\n",
    "        for key, value in slang_word_dict.items():\n",
    "            for v in value:\n",
    "                if tokenized_sentence[index] == v:\n",
    "                    tokenized_sentence[index] = key\n",
    "                else:\n",
    "                    continue\n",
    "                    \n",
    "    return \" \".join(tokenized_sentence)\n",
    "\n",
    "def preprocessing(text):\n",
    "    text = re.sub('<[^<]+?>', '', str(text)) #remove tag\\n\",\n",
    "    text = text.lower() #lower\\n\",\n",
    "    text = re.sub(r'[^\\w]',' ',str(text)) #remove punct\\n\",\n",
    "    text = re.sub(r'\\s+', ' ', text) #remove white space\\n\",\n",
    "    text = [token.text for token in nlp(text)] #Token\n",
    "    text = slang(text)#slang word\n",
    "    text = [token.lemma_ for token in nlp(text) if token.lemma_ not in stopwords] #Lemma & stopword\n",
    "    \n",
    "    return text\n",
    "\n",
    "#function to compute coherence values\n",
    "def compute_coherence_values(dictionary, corpus, texts, limit, start, step):\n",
    "    coherence_values = []\n",
    "    model_list = []\n",
    "    for num_topics in range(start, limit, step):\n",
    "        model = LdaModel(corpus=corpus, id2word=dictionary, num_topics=num_topics, random_state=500)\n",
    "        model_list.append(model)\n",
    "        coherencemodel = CoherenceModel(model=model, texts=texts, dictionary=dictionary, coherence='c_v')\n",
    "        coherence_values.append(coherencemodel.get_coherence())\n",
    "        \n",
    "    return model_list, coherence_values"
   ]
  },
  {
   "cell_type": "code",
   "execution_count": 21,
   "metadata": {},
   "outputs": [],
   "source": [
    "#Load Clean data\n",
    "data = pd.read_csv('data_berita_clean.csv')\n",
    "\n",
    "#Make list of list\n",
    "mylist = []\n",
    "\n",
    "for i,j in data.iterrows():\n",
    "    tmp = literal_eval(j.content)\n",
    "    mylist.append(tmp)\n",
    "    \n",
    "# Add bigrams and trigrams to docs,minimum count 10 means only that appear 10 times or more.\n",
    "bigram = Phrases(mylist, min_count=10)\n",
    "for idx in range(len(mylist)):\n",
    "    for token in bigram[mylist[idx]]:\n",
    "        if '_' in token:\n",
    "            # Token is a bigram, add to document.\n",
    "            mylist[idx].append(token)\n",
    "    \n",
    "# Create Dictionary\n",
    "dictionary = corpora.Dictionary(mylist)\n",
    "\n",
    "# Term Document Frequency\n",
    "corpus = [dictionary.doc2bow(text) for text in mylist]\n",
    "\n",
    "dump(corpus, open('corpus_LDA.pkl', 'wb'))\n",
    "dictionary.save('dictionary_LDA.gensim')"
   ]
  },
  {
   "cell_type": "code",
   "execution_count": 4,
   "metadata": {},
   "outputs": [
    {
     "data": {
      "image/png": "[encoded data removed]",
      "text/plain": [
       "<Figure size 432x288 with 1 Axes>"
      ]
     },
     "metadata": {
      "needs_background": "light"
     },
     "output_type": "display_data"
    }
   ],
   "source": [
    "#search optimal topic number (7)\n",
    "start=5\n",
    "limit=20\n",
    "step=1\n",
    "model_list, coherence_values = compute_coherence_values(dictionary, corpus=corpus, \n",
    "                                                        texts=mylist, start=start, limit=limit, step=step)\n",
    "\n",
    "x = range(start, limit, step)\n",
    "plt.plot(x, coherence_values)\n",
    "plt.xlabel(\"Num Topics\")\n",
    "plt.ylabel(\"Coherence score\")\n",
    "plt.legend((\"coherence_values\"), loc='best')\n",
    "plt.show()"
   ]
  },
  {
   "cell_type": "code",
   "execution_count": 17,
   "metadata": {},
   "outputs": [],
   "source": [
    "# Build LDA model\n",
    "NUM_TOPICS = 16\n",
    "lda_model = LdaModel(corpus=corpus,\n",
    "                    id2word=dictionary,\n",
    "                    num_topics=NUM_TOPICS, \n",
    "                    random_state=666)\n",
    "\n",
    "#Save Model\n",
    "lda_model.save('lda.h5')"
   ]
  },
  {
   "cell_type": "code",
   "execution_count": 8,
   "metadata": {},
   "outputs": [
    {
     "name": "stdout",
     "output_type": "stream",
     "text": [
      "[(7, 0.16235031), (10, 0.17490803), (15, 0.66024333)]\n",
      "[(107, 0.99726754), (186, 0.981074), (466, 0.97014505), (283, 0.9668328), (83, 0.9591344), (652, 0.9477138), (30, 0.94661397), (150, 0.945751), (25, 0.9416849), (43, 0.9416849)]\n"
     ]
    }
   ],
   "source": [
    "#Load Mode\n",
    "loaded_model = LdaModel.load('lda.h5')\n",
    "test = pd.read_csv('data_berita.csv')\n",
    "file = open('corpus_LDA.pkl','rb')\n",
    "loaded_corpus = load(file)\n",
    "\n",
    "#Test new document\n",
    "bow = dictionary.doc2bow(preprocessing(test.content.values[109]))\n",
    " \n",
    "print(loaded_model[bow])\n",
    " \n",
    "lda_index = similarities.MatrixSimilarity(loaded_model[loaded_corpus])\n",
    " \n",
    "# # Let's perform some queries\n",
    "query = lda_index[loaded_model[bow]]\n",
    "# # Sort the similarities\n",
    "sort_sim = sorted(enumerate(query), key=lambda item: -item[1])\n",
    " \n",
    "# # Top most similar documents:\n",
    "print(sort_sim[:10])\n",
    "\n",
    "# # Let's see what's the most similar document\n",
    "# document_id, similarity = sort_sim[0]\n",
    "# print(mylist[document_id][:10])"
   ]
  },
  {
   "cell_type": "code",
   "execution_count": 23,
   "metadata": {},
   "outputs": [
    {
     "name": "stdout",
     "output_type": "stream",
     "text": [
      "(0, '0.015*\"jurus\" + 0.014*\"teknik\" + 0.010*\"ajar\" + 0.010*\"universitas\" + 0.009*\"ilmu\"')\n",
      "(1, '0.013*\"jurus\" + 0.012*\"orang\" + 0.008*\"kerja\" + 0.008*\"kuliah\" + 0.007*\"ajar\"')\n",
      "(2, '0.017*\"orang\" + 0.009*\"ajar\" + 0.009*\"jurus\" + 0.006*\"teknik\" + 0.006*\"kerja\"')\n",
      "(3, '0.022*\"jurus\" + 0.015*\"ilmu\" + 0.014*\"universitas\" + 0.009*\"teknik\" + 0.008*\"ajar\"')\n",
      "(4, '0.011*\"jurus\" + 0.010*\"mahasiswa\" + 0.010*\"universitas\" + 0.009*\"kuliah\" + 0.008*\"ajar\"')\n",
      "(5, '0.011*\"jurus\" + 0.009*\"kuliah\" + 0.009*\"kerja\" + 0.009*\"orang\" + 0.008*\"ajar\"')\n",
      "(6, '0.012*\"jurus\" + 0.011*\"ajar\" + 0.010*\"orang\" + 0.007*\"bahasa\" + 0.007*\"ilmu\"')\n",
      "(7, '0.013*\"ajar\" + 0.009*\"mahasiswa\" + 0.009*\"orang\" + 0.009*\"jurus\" + 0.006*\"kuliah\"')\n",
      "(8, '0.013*\"orang\" + 0.009*\"bahasa\" + 0.008*\"ajar\" + 0.006*\"kuliah\" + 0.006*\"kerja\"')\n",
      "(9, '0.010*\"orang\" + 0.008*\"ajar\" + 0.007*\"sobat\" + 0.007*\"jurus\" + 0.007*\"kuliah\"')\n",
      "(10, '0.017*\"orang\" + 0.011*\"kerja\" + 0.009*\"jurus\" + 0.008*\"kuliah\" + 0.008*\"ajar\"')\n",
      "(11, '0.013*\"orang\" + 0.011*\"universitas\" + 0.009*\"ajar\" + 0.006*\"jurus\" + 0.005*\"teknik\"')\n",
      "(12, '0.013*\"jurus\" + 0.008*\"ajar\" + 0.008*\"sobat\" + 0.008*\"bahasa\" + 0.007*\"teknik\"')\n",
      "(13, '0.012*\"orang\" + 0.010*\"ajar\" + 0.010*\"jurus\" + 0.007*\"kerja\" + 0.006*\"ilmu\"')\n",
      "(14, '0.011*\"kuliah\" + 0.008*\"bahasa\" + 0.008*\"ajar\" + 0.008*\"orang\" + 0.008*\"sobat\"')\n",
      "(15, '0.011*\"kerja\" + 0.010*\"orang\" + 0.010*\"jurus\" + 0.008*\"ajar\" + 0.007*\"kuliah\"')\n"
     ]
    }
   ],
   "source": [
    "# Print the Keyword in the 10 topics\n",
    "topics = lda_model.print_topics(num_words=5)\n",
    "for topic in topics:\n",
    "    print(topic)"
   ]
  },
  {
   "cell_type": "code",
   "execution_count": null,
   "metadata": {},
   "outputs": [],
   "source": []
  }
 ],
 "metadata": {
  "kernelspec": {
   "display_name": "Python 3",
   "language": "python",
   "name": "python3"
  },
  "language_info": {
   "codemirror_mode": {
    "name": "ipython",
    "version": 3
   },
   "file_extension": ".py",
   "mimetype": "text/x-python",
   "name": "python",
   "nbconvert_exporter": "python",
   "pygments_lexer": "ipython3",
   "version": "3.6.9"
  }
 },
 "nbformat": 4,
 "nbformat_minor": 2
}
