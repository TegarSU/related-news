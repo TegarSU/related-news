{
 "cells": [
  {
   "cell_type": "code",
   "execution_count": 1,
   "metadata": {},
   "outputs": [],
   "source": [
    "import sys, os\n",
    "sys.path.append(os.path.abspath(os.path.join('..', 'module')))\n",
    "from openTable import *\n",
    "from filepath import *\n",
    "from preprocessing import preprocessing_text as pre\n",
    "\n",
    "import warnings\n",
    "warnings.filterwarnings('ignore')\n",
    "\n",
    "from re import sub\n",
    "import pandas as pd\n",
    "\n",
    "# import spacy\n",
    "from spacy.lang.id import Indonesian,stop_words\n",
    "nlp = Indonesian()  # use directly\n",
    "stopwords = stop_words.STOP_WORDS \n",
    "stopwords |= {\"nya\",\"jurusan\",\"the\",\"of\"}\n",
    "\n",
    "def preprocessing(text):\n",
    "    text = pre.remove_tag(text) #Remove Tag\n",
    "    text = pre.remove_whitespace(text) #Remove Whitespace\n",
    "    text = pre.lower(text) #Lower\n",
    "    text = pre.remove_link(text) #Remove Link\n",
    "    text = pre.alphabet_only(text) #Get Alphabet\n",
    "    text = sub(r'sobat pintar','',text) # sorry:(\n",
    "    text = pre.remove_whitespace(text) #Remove Whitespace\n",
    "    text = [token.text for token in nlp(text)] #Token\n",
    "    text = pre.slang(text)\n",
    "    text = [token.lemma_ for token in nlp(text) if token.lemma_ not in stopwords] #Lemma & stopword\n",
    "    \n",
    "    return \" \".join(text.strip())\n",
    "\n",
    "\n",
    "\n",
    "def get_data():\n",
    "    data = open_table(['entryId','content'],'BlogsEntry')\n",
    "    \n",
    "    return data\n",
    "\n",
    "def cleaning():\n",
    "    #get data\n",
    "    data = get_data()\n",
    "    data = data.head()\n",
    "    data = rename_column(data,{0:'entryId', 1:'content'})\n",
    "    data['clean'] = data.content.apply(preprocessing) #Preprocessing\n",
    "    \n",
    "    return data"
   ]
  },
  {
   "cell_type": "code",
   "execution_count": 4,
   "metadata": {},
   "outputs": [
    {
     "data": {
      "text/html": [
       "<div>\n",
       "<style scoped>\n",
       "    .dataframe tbody tr th:only-of-type {\n",
       "        vertical-align: middle;\n",
       "    }\n",
       "\n",
       "    .dataframe tbody tr th {\n",
       "        vertical-align: top;\n",
       "    }\n",
       "\n",
       "    .dataframe thead th {\n",
       "        text-align: right;\n",
       "    }\n",
       "</style>\n",
       "<table border=\"1\" class=\"dataframe\">\n",
       "  <thead>\n",
       "    <tr style=\"text-align: right;\">\n",
       "      <th></th>\n",
       "      <th>entryId</th>\n",
       "      <th>content</th>\n",
       "      <th>clean</th>\n",
       "    </tr>\n",
       "  </thead>\n",
       "  <tbody>\n",
       "    <tr>\n",
       "      <td>0</td>\n",
       "      <td>204420</td>\n",
       "      <td>&lt;p&gt;Biasanya kakak di blog www.Herniawan.com me...</td>\n",
       "      <td>[kakak, blog, bahas, tips, kena, bahas, stan, ...</td>\n",
       "    </tr>\n",
       "    <tr>\n",
       "      <td>1</td>\n",
       "      <td>288433</td>\n",
       "      <td>&lt;p&gt;Kamu merasa tak punya peluang untuk ikut SN...</td>\n",
       "      <td>[luang, snmptn, nilai, rapormu, turun, ombak, ...</td>\n",
       "    </tr>\n",
       "    <tr>\n",
       "      <td>2</td>\n",
       "      <td>288455</td>\n",
       "      <td>&lt;p&gt;Emang gak tertarik sama SNMPTN (hmm... akib...</td>\n",
       "      <td>[tarik, snmptn, hmm, akibat, nilai, rapor, flu...</td>\n",
       "    </tr>\n",
       "    <tr>\n",
       "      <td>3</td>\n",
       "      <td>288478</td>\n",
       "      <td>&lt;p&gt;Saat mendengar kata belajar, apa yang muncu...</td>\n",
       "      <td>[dengar, ajar, muncul, dikepalamu, kesal, mala...</td>\n",
       "    </tr>\n",
       "    <tr>\n",
       "      <td>4</td>\n",
       "      <td>291921</td>\n",
       "      <td>&lt;p&gt;Kamu masuk kelas sesuai jadwal, pulang seko...</td>\n",
       "      <td>[masuk, kelas, suai, jadwal, pulang, sekolah, ...</td>\n",
       "    </tr>\n",
       "  </tbody>\n",
       "</table>\n",
       "</div>"
      ],
      "text/plain": [
       "   entryId                                            content  \\\n",
       "0   204420  <p>Biasanya kakak di blog www.Herniawan.com me...   \n",
       "1   288433  <p>Kamu merasa tak punya peluang untuk ikut SN...   \n",
       "2   288455  <p>Emang gak tertarik sama SNMPTN (hmm... akib...   \n",
       "3   288478  <p>Saat mendengar kata belajar, apa yang muncu...   \n",
       "4   291921  <p>Kamu masuk kelas sesuai jadwal, pulang seko...   \n",
       "\n",
       "                                               clean  \n",
       "0  [kakak, blog, bahas, tips, kena, bahas, stan, ...  \n",
       "1  [luang, snmptn, nilai, rapormu, turun, ombak, ...  \n",
       "2  [tarik, snmptn, hmm, akibat, nilai, rapor, flu...  \n",
       "3  [dengar, ajar, muncul, dikepalamu, kesal, mala...  \n",
       "4  [masuk, kelas, suai, jadwal, pulang, sekolah, ...  "
      ]
     },
     "metadata": {},
     "output_type": "display_data"
    },
    {
     "name": "stdout",
     "output_type": "stream",
     "text": [
      "767\n"
     ]
    }
   ],
   "source": [
    "data = cleaning()\n",
    "display(data.head())\n",
    "print(len(data.entryId.unique()))"
   ]
  },
  {
   "cell_type": "code",
   "execution_count": 15,
   "metadata": {},
   "outputs": [],
   "source": [
    "#Save\n",
    "data.to_csv('../data/data_berita_clean.csv', sep=',',header=data.columns.tolist(),index=None)"
   ]
  },
  {
   "cell_type": "code",
   "execution_count": 5,
   "metadata": {},
   "outputs": [
    {
     "data": {
      "text/html": [
       "<div>\n",
       "<style scoped>\n",
       "    .dataframe tbody tr th:only-of-type {\n",
       "        vertical-align: middle;\n",
       "    }\n",
       "\n",
       "    .dataframe tbody tr th {\n",
       "        vertical-align: top;\n",
       "    }\n",
       "\n",
       "    .dataframe thead th {\n",
       "        text-align: right;\n",
       "    }\n",
       "</style>\n",
       "<table border=\"1\" class=\"dataframe\">\n",
       "  <thead>\n",
       "    <tr style=\"text-align: right;\">\n",
       "      <th></th>\n",
       "      <th>entryId</th>\n",
       "      <th>content</th>\n",
       "      <th>clean</th>\n",
       "      <th>word_count</th>\n",
       "    </tr>\n",
       "  </thead>\n",
       "  <tbody>\n",
       "    <tr>\n",
       "      <td>0</td>\n",
       "      <td>204420</td>\n",
       "      <td>biasanya kakak di blog membahas masalah serta ...</td>\n",
       "      <td>[kakak, blog, bahas, tips, kena, bahas, stan, ...</td>\n",
       "      <td>3058</td>\n",
       "    </tr>\n",
       "    <tr>\n",
       "      <td>1</td>\n",
       "      <td>288433</td>\n",
       "      <td>kamu merasa tak punya peluang untuk ikut snmpt...</td>\n",
       "      <td>[luang, snmptn, nilai, rapormu, turun, ombak, ...</td>\n",
       "      <td>323</td>\n",
       "    </tr>\n",
       "    <tr>\n",
       "      <td>2</td>\n",
       "      <td>288455</td>\n",
       "      <td>emang gak tertarik sama snmptn hmm akibat dari...</td>\n",
       "      <td>[tarik, snmptn, hmm, akibat, nilai, rapor, flu...</td>\n",
       "      <td>426</td>\n",
       "    </tr>\n",
       "    <tr>\n",
       "      <td>3</td>\n",
       "      <td>288478</td>\n",
       "      <td>saat mendengar kata belajar apa yang muncul di...</td>\n",
       "      <td>[dengar, ajar, muncul, dikepalamu, kesal, mala...</td>\n",
       "      <td>346</td>\n",
       "    </tr>\n",
       "    <tr>\n",
       "      <td>4</td>\n",
       "      <td>291921</td>\n",
       "      <td>kamu masuk kelas sesuai jadwal pulang sekolah ...</td>\n",
       "      <td>[masuk, kelas, suai, jadwal, pulang, sekolah, ...</td>\n",
       "      <td>366</td>\n",
       "    </tr>\n",
       "  </tbody>\n",
       "</table>\n",
       "</div>"
      ],
      "text/plain": [
       "   entryId                                            content  \\\n",
       "0   204420  biasanya kakak di blog membahas masalah serta ...   \n",
       "1   288433  kamu merasa tak punya peluang untuk ikut snmpt...   \n",
       "2   288455  emang gak tertarik sama snmptn hmm akibat dari...   \n",
       "3   288478  saat mendengar kata belajar apa yang muncul di...   \n",
       "4   291921  kamu masuk kelas sesuai jadwal pulang sekolah ...   \n",
       "\n",
       "                                               clean  word_count  \n",
       "0  [kakak, blog, bahas, tips, kena, bahas, stan, ...        3058  \n",
       "1  [luang, snmptn, nilai, rapormu, turun, ombak, ...         323  \n",
       "2  [tarik, snmptn, hmm, akibat, nilai, rapor, flu...         426  \n",
       "3  [dengar, ajar, muncul, dikepalamu, kesal, mala...         346  \n",
       "4  [masuk, kelas, suai, jadwal, pulang, sekolah, ...         366  "
      ]
     },
     "execution_count": 5,
     "metadata": {},
     "output_type": "execute_result"
    }
   ],
   "source": [
    "#Fetch wordcount for each content\n",
    "def for_content(text):\n",
    "    text = pre.remove_tag(text) #Remove Tag\n",
    "    text = pre.remove_whitespace(text) #Remove Whitespace\n",
    "    text = pre.lower(text) #Lower\n",
    "    text = pre.remove_link(text) #Remove Link\n",
    "    text = pre.alphabet_only(text) #Get Alphabet\n",
    "    text = sub(r'sobat pintar','',text) # sorry:(\n",
    "    text = pre.remove_whitespace(text) #Remove Whitespace\n",
    "    \n",
    "    return text\n",
    "data.content = data.content.apply(for_content)\n",
    "data['word_count'] = data.content.apply(lambda x: len(str(x).split(\" \")))\n",
    "data.head()"
   ]
  },
  {
   "cell_type": "code",
   "execution_count": 6,
   "metadata": {},
   "outputs": [
    {
     "data": {
      "text/plain": [
       "count     767.000000\n",
       "mean      553.026076\n",
       "std       143.020300\n",
       "min       290.000000\n",
       "25%       471.000000\n",
       "50%       551.000000\n",
       "75%       628.000000\n",
       "max      3058.000000\n",
       "Name: word_count, dtype: float64"
      ]
     },
     "execution_count": 6,
     "metadata": {},
     "output_type": "execute_result"
    }
   ],
   "source": [
    "##Descriptive statistics of word counts\n",
    "data.word_count.describe()"
   ]
  },
  {
   "cell_type": "code",
   "execution_count": 11,
   "metadata": {},
   "outputs": [
    {
     "data": {
      "text/plain": [
       "yang       12451\n",
       "dan         9466\n",
       "kamu        4968\n",
       "dengan      4812\n",
       "di          4413\n",
       "pada        4281\n",
       "ini         3868\n",
       "atau        3763\n",
       "untuk       3520\n",
       "kita        2985\n",
       "jurusan     2974\n",
       "bisa        2754\n",
       "tak         2687\n",
       "juga        2586\n",
       "dari        2496\n",
       "dalam       2358\n",
       "lebih       2239\n",
       "lain        2087\n",
       "akan        2025\n",
       "menjadi     1956\n",
       "dtype: int64"
      ]
     },
     "execution_count": 11,
     "metadata": {},
     "output_type": "execute_result"
    }
   ],
   "source": [
    "#Identify common words\n",
    "freq = pd.Series(' '.join(data.content).split()).value_counts()[:20]\n",
    "freq"
   ]
  },
  {
   "cell_type": "code",
   "execution_count": 12,
   "metadata": {},
   "outputs": [
    {
     "data": {
      "text/plain": [
       "{'jurusan'}"
      ]
     },
     "execution_count": 12,
     "metadata": {},
     "output_type": "execute_result"
    }
   ],
   "source": [
    "# Check stopword\n",
    "set(freq.index.tolist()) - stopwords"
   ]
  },
  {
   "cell_type": "code",
   "execution_count": 14,
   "metadata": {},
   "outputs": [
    {
     "data": {
      "text/plain": [
       "ngisengin         1\n",
       "gulick            1\n",
       "gosipan           1\n",
       "atuh              1\n",
       "fih               1\n",
       "suffer            1\n",
       "santapan          1\n",
       "daunnya           1\n",
       "sepotong          1\n",
       "bernoda           1\n",
       "talentscouting    1\n",
       "menggencet        1\n",
       "alokasikan        1\n",
       "edutopia          1\n",
       "tahapannya        1\n",
       "ts                1\n",
       "plat              1\n",
       "stengaah          1\n",
       "memanaskan        1\n",
       "tersendat         1\n",
       "dtype: int64"
      ]
     },
     "execution_count": 14,
     "metadata": {},
     "output_type": "execute_result"
    }
   ],
   "source": [
    "#Identify uncommon words\n",
    "freq = pd.Series(' '.join(data.content).split()).value_counts()[-20:]\n",
    "freq"
   ]
  }
 ],
 "metadata": {
  "kernelspec": {
   "display_name": "Python 3",
   "language": "python",
   "name": "python3"
  },
  "language_info": {
   "codemirror_mode": {
    "name": "ipython",
    "version": 3
   },
   "file_extension": ".py",
   "mimetype": "text/x-python",
   "name": "python",
   "nbconvert_exporter": "python",
   "pygments_lexer": "ipython3",
   "version": "3.7.4"
  }
 },
 "nbformat": 4,
 "nbformat_minor": 2
}
