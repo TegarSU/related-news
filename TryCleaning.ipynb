{
 "cells": [
  {
   "cell_type": "code",
   "execution_count": 1,
   "metadata": {},
   "outputs": [],
   "source": [
    "import warnings\n",
    "warnings.filterwarnings('ignore')\n",
    "\n",
    "import pandas as pd\n",
    "# import spacy\n",
    "from spacy.lang.id import Indonesian\n",
    "from json import loads\n",
    "\n",
    "nlp = Indonesian()  # use directly\n",
    "stopwords = spacy.lang.id.stop_words.STOP_WORDS \n",
    "stopwords |= {\"nya\"}"
   ]
  },
  {
   "cell_type": "code",
   "execution_count": 2,
   "metadata": {},
   "outputs": [],
   "source": [
    "# #Akronim\n",
    "def slang(tokenized_sentence):\n",
    "    slang_word_dict = loads(open(\"slang_word_dict.txt\", 'r').read())\n",
    "\n",
    "    for index in range(len(tokenized_sentence)):\n",
    "        for key, value in slang_word_dict.items():\n",
    "            for v in value:\n",
    "                if tokenized_sentence[index] == v:\n",
    "                    tokenized_sentence[index] = key\n",
    "                else:\n",
    "                    continue\n",
    "                    \n",
    "    return \" \".join(tokenized_sentence)\n",
    "\n",
    "def preprocessing(text):\n",
    "    text = re.sub('<[^<]+?>', '', str(text)) #remove tag\n",
    "    text = text.lower() #lower\\n\",\n",
    "    text = re.sub(r'[^\\w]',' ',str(text)) #remove punct\n",
    "    text = re.sub(r'\\s+', ' ', text) #remove white space\n",
    "    text = re.sub(r'sobat pintar','',text) # sorry:(\n",
    "    text = [token.text for token in nlp(text)] #Token\n",
    "    text = slang(text)#slang word\n",
    "    text = re.sub(r'\\s+', ' ', text) #remove white space\n",
    "    text = [token.lemma_ for token in nlp(text) if token.lemma_ not in stopwords] #Lemma & stopword\n",
    "    \n",
    "    return text"
   ]
  },
  {
   "cell_type": "code",
   "execution_count": 3,
   "metadata": {},
   "outputs": [
    {
     "data": {
      "text/html": [
       "<div>\n",
       "<style scoped>\n",
       "    .dataframe tbody tr th:only-of-type {\n",
       "        vertical-align: middle;\n",
       "    }\n",
       "\n",
       "    .dataframe tbody tr th {\n",
       "        vertical-align: top;\n",
       "    }\n",
       "\n",
       "    .dataframe thead th {\n",
       "        text-align: right;\n",
       "    }\n",
       "</style>\n",
       "<table border=\"1\" class=\"dataframe\">\n",
       "  <thead>\n",
       "    <tr style=\"text-align: right;\">\n",
       "      <th></th>\n",
       "      <th>entryId</th>\n",
       "      <th>title</th>\n",
       "      <th>subtitle</th>\n",
       "      <th>content</th>\n",
       "      <th>displayDate</th>\n",
       "      <th>tag</th>\n",
       "    </tr>\n",
       "  </thead>\n",
       "  <tbody>\n",
       "    <tr>\n",
       "      <td>0</td>\n",
       "      <td>288434</td>\n",
       "      <td>4 Alasan Kenapa Opsi SNMPTN Layak Dilirik</td>\n",
       "      <td>Tahukah Kamu?</td>\n",
       "      <td>[luang, snmptn, nilai, rapormu, turun, ombak, ...</td>\n",
       "      <td>2018-07-30 11:48:00</td>\n",
       "      <td>snmptn</td>\n",
       "    </tr>\n",
       "    <tr>\n",
       "      <td>1</td>\n",
       "      <td>492858</td>\n",
       "      <td>Skema Pembiayaan Perkuliahan pada 8 PTN</td>\n",
       "      <td>Info Terbaru</td>\n",
       "      <td>[pilih, jurus, dipersiapkan, biaya, kuliah, ba...</td>\n",
       "      <td>2018-08-24 07:26:00</td>\n",
       "      <td>snmptn</td>\n",
       "    </tr>\n",
       "    <tr>\n",
       "      <td>2</td>\n",
       "      <td>1141875</td>\n",
       "      <td>Yuk, Ketahui Seluk Beluk SNMPTN</td>\n",
       "      <td>SNMPTN Tes Masuk PTN Jalur Undangan</td>\n",
       "      <td>[ubah, sbmptn, test, center, timbul, tanda, si...</td>\n",
       "      <td>2018-09-30 07:56:00</td>\n",
       "      <td>snmptn</td>\n",
       "    </tr>\n",
       "    <tr>\n",
       "      <td>3</td>\n",
       "      <td>7312259</td>\n",
       "      <td>Kenali Lembaga Ini Sebelum Ujian: LTMPT</td>\n",
       "      <td>Ujian Masuk PTN</td>\n",
       "      <td>[2019, kemenristekdikti, ubah, skema, uji, mas...</td>\n",
       "      <td>2018-11-10 03:08:00</td>\n",
       "      <td>snmptn</td>\n",
       "    </tr>\n",
       "    <tr>\n",
       "      <td>4</td>\n",
       "      <td>14056533</td>\n",
       "      <td>Tiga Pintu Masuk ITB: Kini dengan Seleksi Mandiri</td>\n",
       "      <td>Ujian Masuk PTN</td>\n",
       "      <td>[ , lucky, kakak, kakak, tingkatmu, masuk, itb...</td>\n",
       "      <td>2018-12-15 14:06:00</td>\n",
       "      <td>snmptn</td>\n",
       "    </tr>\n",
       "  </tbody>\n",
       "</table>\n",
       "</div>"
      ],
      "text/plain": [
       "    entryId                                              title  \\\n",
       "0    288434          4 Alasan Kenapa Opsi SNMPTN Layak Dilirik   \n",
       "1    492858            Skema Pembiayaan Perkuliahan pada 8 PTN   \n",
       "2   1141875                    Yuk, Ketahui Seluk Beluk SNMPTN   \n",
       "3   7312259            Kenali Lembaga Ini Sebelum Ujian: LTMPT   \n",
       "4  14056533  Tiga Pintu Masuk ITB: Kini dengan Seleksi Mandiri   \n",
       "\n",
       "                              subtitle  \\\n",
       "0                        Tahukah Kamu?   \n",
       "1                         Info Terbaru   \n",
       "2  SNMPTN Tes Masuk PTN Jalur Undangan   \n",
       "3                      Ujian Masuk PTN   \n",
       "4                      Ujian Masuk PTN   \n",
       "\n",
       "                                             content          displayDate  \\\n",
       "0  [luang, snmptn, nilai, rapormu, turun, ombak, ...  2018-07-30 11:48:00   \n",
       "1  [pilih, jurus, dipersiapkan, biaya, kuliah, ba...  2018-08-24 07:26:00   \n",
       "2  [ubah, sbmptn, test, center, timbul, tanda, si...  2018-09-30 07:56:00   \n",
       "3  [2019, kemenristekdikti, ubah, skema, uji, mas...  2018-11-10 03:08:00   \n",
       "4  [ , lucky, kakak, kakak, tingkatmu, masuk, itb...  2018-12-15 14:06:00   \n",
       "\n",
       "      tag  \n",
       "0  snmptn  \n",
       "1  snmptn  \n",
       "2  snmptn  \n",
       "3  snmptn  \n",
       "4  snmptn  "
      ]
     },
     "execution_count": 3,
     "metadata": {},
     "output_type": "execute_result"
    }
   ],
   "source": [
    "data = pd.read_csv('data_berita.csv')\n",
    "data.content = data.content.apply(preprocessing)\n",
    "data.head()"
   ]
  },
  {
   "cell_type": "code",
   "execution_count": 4,
   "metadata": {},
   "outputs": [],
   "source": [
    "#Save\n",
    "data.to_csv('data_berita_clean.csv', sep=',',header=data.columns.tolist(),index=None)"
   ]
  },
  {
   "cell_type": "code",
   "execution_count": 9,
   "metadata": {},
   "outputs": [
    {
     "data": {
      "text/plain": [
       "721"
      ]
     },
     "execution_count": 9,
     "metadata": {},
     "output_type": "execute_result"
    }
   ],
   "source": [
    "#Data Shape\n",
    "len(data.entryId.unique())"
   ]
  },
  {
   "cell_type": "code",
   "execution_count": 6,
   "metadata": {},
   "outputs": [
    {
     "data": {
      "text/plain": [
       "kuliah               325\n",
       "aku pintar           317\n",
       "mahasiswa            314\n",
       "sobat pintar         310\n",
       "pelajar              176\n",
       "                    ... \n",
       "kip                    1\n",
       "tps                    1\n",
       "unsyiah                1\n",
       "fakultas mipa          1\n",
       "olahraga rekreasi      1\n",
       "Name: tag, Length: 673, dtype: int64"
      ]
     },
     "execution_count": 6,
     "metadata": {},
     "output_type": "execute_result"
    }
   ],
   "source": [
    "#Count Tag\n",
    "data.tag.value_counts()"
   ]
  },
  {
   "cell_type": "code",
   "execution_count": 7,
   "metadata": {},
   "outputs": [
    {
     "data": {
      "text/plain": [
       "673"
      ]
     },
     "execution_count": 7,
     "metadata": {},
     "output_type": "execute_result"
    }
   ],
   "source": [
    "#Unique Tag\n",
    "len(data.tag.unique())"
   ]
  }
 ],
 "metadata": {
  "kernelspec": {
   "display_name": "Python 3",
   "language": "python",
   "name": "python3"
  },
  "language_info": {
   "codemirror_mode": {
    "name": "ipython",
    "version": 3
   },
   "file_extension": ".py",
   "mimetype": "text/x-python",
   "name": "python",
   "nbconvert_exporter": "python",
   "pygments_lexer": "ipython3",
   "version": "3.6.9"
  }
 },
 "nbformat": 4,
 "nbformat_minor": 2
}
