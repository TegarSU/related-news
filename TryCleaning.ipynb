{
 "cells": [
  {
   "cell_type": "code",
   "execution_count": 1,
   "metadata": {},
   "outputs": [],
   "source": [
    "import sys, os\n",
    "sys.path.append(os.path.abspath(os.path.join('..', 'module')))\n",
    "from openTable import *\n",
    "from filepath import *\n",
    "\n",
    "import warnings\n",
    "warnings.filterwarnings('ignore')\n",
    "\n",
    "import pandas as pd\n",
    "from json import loads\n",
    "\n",
    "# import spacy\n",
    "from spacy.lang.id import Indonesian\n",
    "nlp = Indonesian()  # use directly\n",
    "stopwords = spacy.lang.id.stop_words.STOP_WORDS \n",
    "stopwords |= {\"nya\",\"jurusan\",\"jurus\",\"the\",\"of\"}"
   ]
  },
  {
   "cell_type": "code",
   "execution_count": 2,
   "metadata": {},
   "outputs": [],
   "source": [
    "# #Akronim\n",
    "def slang(tokenized_sentence):\n",
    "    slang_word_dict = loads(open(\"slang_word_dict.txt\", 'r').read())\n",
    "\n",
    "    for index in range(len(tokenized_sentence)):\n",
    "        for key, value in slang_word_dict.items():\n",
    "            for v in value:\n",
    "                if tokenized_sentence[index] == v:\n",
    "                    tokenized_sentence[index] = key\n",
    "                else:\n",
    "                    continue\n",
    "                    \n",
    "    return \" \".join(tokenized_sentence)\n",
    "\n",
    "def preprocessing(text):\n",
    "    text = re.sub('<[^<]+?>', '', str(text)) #remove tag\n",
    "    text = text.lower() #lower\\n\",\n",
    "    text = re.sub(r'[^a-z]',' ',str(text)) #get alphabet only\n",
    "    text = re.sub(r'\\s+', ' ', text) #remove white space\n",
    "    text = re.sub(r'sobat pintar','',text) # sorry:(\n",
    "    text = [token.text for token in nlp(text)] #Token\n",
    "    text = slang(text)#slang word\n",
    "    text = re.sub(r'\\s+', ' ', text) #remove white space\n",
    "    text = [token.lemma_ for token in nlp(text) if token.lemma_ not in stopwords] #Lemma & stopword\n",
    "    \n",
    "    return text\n",
    "\n",
    "def get_data():\n",
    "    data = open_table(['entryId','content'],'BlogsEntry')\n",
    "    \n",
    "    return data"
   ]
  },
  {
   "cell_type": "code",
   "execution_count": 3,
   "metadata": {},
   "outputs": [
    {
     "data": {
      "text/html": [
       "<div>\n",
       "<style scoped>\n",
       "    .dataframe tbody tr th:only-of-type {\n",
       "        vertical-align: middle;\n",
       "    }\n",
       "\n",
       "    .dataframe tbody tr th {\n",
       "        vertical-align: top;\n",
       "    }\n",
       "\n",
       "    .dataframe thead th {\n",
       "        text-align: right;\n",
       "    }\n",
       "</style>\n",
       "<table border=\"1\" class=\"dataframe\">\n",
       "  <thead>\n",
       "    <tr style=\"text-align: right;\">\n",
       "      <th></th>\n",
       "      <th>entryId</th>\n",
       "      <th>content</th>\n",
       "    </tr>\n",
       "  </thead>\n",
       "  <tbody>\n",
       "    <tr>\n",
       "      <td>0</td>\n",
       "      <td>204420</td>\n",
       "      <td>[kakak, blog, www, herniawan, com, bahas, tips...</td>\n",
       "    </tr>\n",
       "    <tr>\n",
       "      <td>1</td>\n",
       "      <td>288433</td>\n",
       "      <td>[luang, snmptn, nilai, rapormu, turun, ombak, ...</td>\n",
       "    </tr>\n",
       "    <tr>\n",
       "      <td>2</td>\n",
       "      <td>288455</td>\n",
       "      <td>[tarik, snmptn, hmm, akibat, nilai, rapor, flu...</td>\n",
       "    </tr>\n",
       "    <tr>\n",
       "      <td>3</td>\n",
       "      <td>288478</td>\n",
       "      <td>[dengar, ajar, muncul, dikepalamu, kesal, mala...</td>\n",
       "    </tr>\n",
       "    <tr>\n",
       "      <td>4</td>\n",
       "      <td>291921</td>\n",
       "      <td>[masuk, kelas, suai, jadwal, pulang, sekolah, ...</td>\n",
       "    </tr>\n",
       "  </tbody>\n",
       "</table>\n",
       "</div>"
      ],
      "text/plain": [
       "   entryId                                            content\n",
       "0   204420  [kakak, blog, www, herniawan, com, bahas, tips...\n",
       "1   288433  [luang, snmptn, nilai, rapormu, turun, ombak, ...\n",
       "2   288455  [tarik, snmptn, hmm, akibat, nilai, rapor, flu...\n",
       "3   288478  [dengar, ajar, muncul, dikepalamu, kesal, mala...\n",
       "4   291921  [masuk, kelas, suai, jadwal, pulang, sekolah, ..."
      ]
     },
     "execution_count": 3,
     "metadata": {},
     "output_type": "execute_result"
    }
   ],
   "source": [
    "#get data\n",
    "data = get_data()\n",
    "data = rename_column(data,{0:'entryId', 1:'content'})\n",
    "data.content = data.content.apply(preprocessing)\n",
    "data.head()"
   ]
  },
  {
   "cell_type": "code",
   "execution_count": 4,
   "metadata": {},
   "outputs": [],
   "source": [
    "#Save\n",
    "data.to_csv('../data/data_berita_clean.csv', sep=',',header=data.columns.tolist(),index=None)"
   ]
  },
  {
   "cell_type": "code",
   "execution_count": 5,
   "metadata": {},
   "outputs": [
    {
     "data": {
      "text/plain": [
       "745"
      ]
     },
     "execution_count": 5,
     "metadata": {},
     "output_type": "execute_result"
    }
   ],
   "source": [
    "#Data Shape\n",
    "len(data.entryId.unique())"
   ]
  },
  {
   "cell_type": "code",
   "execution_count": 7,
   "metadata": {},
   "outputs": [],
   "source": [
    "# #Count Tag\n",
    "# tag = data.tag.value_counts()\n",
    "# display(tag)\n",
    "\n",
    "# df = pd.DataFrame(tag)\n",
    "# # df.head()\n",
    "# #Save\n",
    "# df.to_csv('tag.csv', sep=',',header=df.columns.tolist())"
   ]
  }
 ],
 "metadata": {
  "kernelspec": {
   "display_name": "Python 3",
   "language": "python",
   "name": "python3"
  },
  "language_info": {
   "codemirror_mode": {
    "name": "ipython",
    "version": 3
   },
   "file_extension": ".py",
   "mimetype": "text/x-python",
   "name": "python",
   "nbconvert_exporter": "python",
   "pygments_lexer": "ipython3",
   "version": "3.6.9"
  }
 },
 "nbformat": 4,
 "nbformat_minor": 2
}
