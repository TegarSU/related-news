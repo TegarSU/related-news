{
 "cells": [
  {
   "cell_type": "code",
   "execution_count": 1,
   "metadata": {},
   "outputs": [],
   "source": [
    "import pandas as pd"
   ]
  },
  {
   "cell_type": "code",
   "execution_count": 4,
   "metadata": {},
   "outputs": [
    {
     "data": {
      "text/html": [
       "<div>\n",
       "<style scoped>\n",
       "    .dataframe tbody tr th:only-of-type {\n",
       "        vertical-align: middle;\n",
       "    }\n",
       "\n",
       "    .dataframe tbody tr th {\n",
       "        vertical-align: top;\n",
       "    }\n",
       "\n",
       "    .dataframe thead th {\n",
       "        text-align: right;\n",
       "    }\n",
       "</style>\n",
       "<table border=\"1\" class=\"dataframe\">\n",
       "  <thead>\n",
       "    <tr style=\"text-align: right;\">\n",
       "      <th></th>\n",
       "      <th>entryId</th>\n",
       "      <th>title</th>\n",
       "      <th>subtitle</th>\n",
       "      <th>content</th>\n",
       "      <th>displayDate</th>\n",
       "      <th>tag</th>\n",
       "    </tr>\n",
       "  </thead>\n",
       "  <tbody>\n",
       "    <tr>\n",
       "      <td>0</td>\n",
       "      <td>288434</td>\n",
       "      <td>4 Alasan Kenapa Opsi SNMPTN Layak Dilirik</td>\n",
       "      <td>Tahukah Kamu?</td>\n",
       "      <td>&lt;p&gt;Kamu merasa tak punya peluang untuk ikut SN...</td>\n",
       "      <td>2018-07-30 11:48:00</td>\n",
       "      <td>snmptn</td>\n",
       "    </tr>\n",
       "    <tr>\n",
       "      <td>1</td>\n",
       "      <td>492858</td>\n",
       "      <td>Skema Pembiayaan Perkuliahan pada 8 PTN</td>\n",
       "      <td>Info Terbaru</td>\n",
       "      <td>&lt;p&gt;Tak cuma pilihan jurusan yang musti dipersi...</td>\n",
       "      <td>2018-08-24 07:26:00</td>\n",
       "      <td>snmptn</td>\n",
       "    </tr>\n",
       "    <tr>\n",
       "      <td>2</td>\n",
       "      <td>1141875</td>\n",
       "      <td>Yuk, Ketahui Seluk Beluk SNMPTN</td>\n",
       "      <td>SNMPTN Tes Masuk PTN Jalur Undangan</td>\n",
       "      <td>&lt;p&gt;Perubahan SBMPTN menjadi &lt;i&gt;Test Center&lt;/i&gt;...</td>\n",
       "      <td>2018-09-30 07:56:00</td>\n",
       "      <td>snmptn</td>\n",
       "    </tr>\n",
       "    <tr>\n",
       "      <td>3</td>\n",
       "      <td>7312259</td>\n",
       "      <td>Kenali Lembaga Ini Sebelum Ujian: LTMPT</td>\n",
       "      <td>Ujian Masuk PTN</td>\n",
       "      <td>&lt;p&gt;Mulai tahun 2019, Kemenristekdikti akan men...</td>\n",
       "      <td>2018-11-10 03:08:00</td>\n",
       "      <td>snmptn</td>\n",
       "    </tr>\n",
       "    <tr>\n",
       "      <td>4</td>\n",
       "      <td>14056533</td>\n",
       "      <td>Tiga Pintu Masuk ITB: Kini dengan Seleksi Mandiri</td>\n",
       "      <td>Ujian Masuk PTN</td>\n",
       "      <td>&lt;p&gt;\\n  &lt;i&gt;Lucky you&lt;/i&gt;! Selama tiga tahun bel...</td>\n",
       "      <td>2018-12-15 14:06:00</td>\n",
       "      <td>snmptn</td>\n",
       "    </tr>\n",
       "  </tbody>\n",
       "</table>\n",
       "</div>"
      ],
      "text/plain": [
       "    entryId                                              title  \\\n",
       "0    288434          4 Alasan Kenapa Opsi SNMPTN Layak Dilirik   \n",
       "1    492858            Skema Pembiayaan Perkuliahan pada 8 PTN   \n",
       "2   1141875                    Yuk, Ketahui Seluk Beluk SNMPTN   \n",
       "3   7312259            Kenali Lembaga Ini Sebelum Ujian: LTMPT   \n",
       "4  14056533  Tiga Pintu Masuk ITB: Kini dengan Seleksi Mandiri   \n",
       "\n",
       "                              subtitle  \\\n",
       "0                        Tahukah Kamu?   \n",
       "1                         Info Terbaru   \n",
       "2  SNMPTN Tes Masuk PTN Jalur Undangan   \n",
       "3                      Ujian Masuk PTN   \n",
       "4                      Ujian Masuk PTN   \n",
       "\n",
       "                                             content          displayDate  \\\n",
       "0  <p>Kamu merasa tak punya peluang untuk ikut SN...  2018-07-30 11:48:00   \n",
       "1  <p>Tak cuma pilihan jurusan yang musti dipersi...  2018-08-24 07:26:00   \n",
       "2  <p>Perubahan SBMPTN menjadi <i>Test Center</i>...  2018-09-30 07:56:00   \n",
       "3  <p>Mulai tahun 2019, Kemenristekdikti akan men...  2018-11-10 03:08:00   \n",
       "4  <p>\\n  <i>Lucky you</i>! Selama tiga tahun bel...  2018-12-15 14:06:00   \n",
       "\n",
       "      tag  \n",
       "0  snmptn  \n",
       "1  snmptn  \n",
       "2  snmptn  \n",
       "3  snmptn  \n",
       "4  snmptn  "
      ]
     },
     "execution_count": 4,
     "metadata": {},
     "output_type": "execute_result"
    }
   ],
   "source": [
    "data = pd.read_csv('data_berita.csv')\n",
    "data.head()"
   ]
  },
  {
   "cell_type": "code",
   "execution_count": 9,
   "metadata": {},
   "outputs": [
    {
     "data": {
      "text/plain": [
       "721"
      ]
     },
     "execution_count": 9,
     "metadata": {},
     "output_type": "execute_result"
    }
   ],
   "source": [
    "#Data Shape\n",
    "len(data.entryId.unique())"
   ]
  },
  {
   "cell_type": "code",
   "execution_count": 6,
   "metadata": {},
   "outputs": [
    {
     "data": {
      "text/plain": [
       "kuliah               325\n",
       "aku pintar           317\n",
       "mahasiswa            314\n",
       "sobat pintar         310\n",
       "pelajar              176\n",
       "                    ... \n",
       "kip                    1\n",
       "tps                    1\n",
       "unsyiah                1\n",
       "fakultas mipa          1\n",
       "olahraga rekreasi      1\n",
       "Name: tag, Length: 673, dtype: int64"
      ]
     },
     "execution_count": 6,
     "metadata": {},
     "output_type": "execute_result"
    }
   ],
   "source": [
    "#Count Tag\n",
    "data.tag.value_counts()"
   ]
  },
  {
   "cell_type": "code",
   "execution_count": 7,
   "metadata": {},
   "outputs": [
    {
     "data": {
      "text/plain": [
       "673"
      ]
     },
     "execution_count": 7,
     "metadata": {},
     "output_type": "execute_result"
    }
   ],
   "source": [
    "#Unique Tag\n",
    "len(data.tag.unique())"
   ]
  },
  {
   "cell_type": "code",
   "execution_count": 18,
   "metadata": {},
   "outputs": [],
   "source": [
    "def normalize(text):\n",
    "    text = re.sub('<[^<]+?>', '', text) #remove tag\n",
    "    text = text.lower() #lower\n",
    "    text = re.sub(r'[^\\w]',' ',text) #remove punct\n",
    "    text = re.sub(r'\\s+', ' ', text) #remove white space\n",
    "#     text = re.sub(r'[,.;`:]', '', text)\n",
    "    \n",
    "    return text\n",
    "    \n",
    "#     re.sub('<[^<]+?>', '', text)"
   ]
  },
  {
   "cell_type": "code",
   "execution_count": 19,
   "metadata": {},
   "outputs": [
    {
     "data": {
      "text/plain": [
       "'kamu merasa tak punya peluang untuk ikut snmptn kenapa nilai rapormu naik turun seperti ombak di pantai tunggu dulu jangan lekas patah hati baca dulu barangkali kamu masih punya peluang 1 kriteria seleksi snmptn bahasa kerennya seleksi snmptn dilakukan melalui penelusuran prestasi akademik intinya nilai rapormu dari semester satu sampai semester lima yang akan jadi acuan utama untuk menentukan apakah kamu akan diterima di ptn atau tidak secara umum nilai akademik yang konsisten tinggi punya peluang besar untuk lolos seleksi tapi jika nilai rapormu sempat jatuh misalnya karena pada suatu semester kamu sakit dan dirawat cukup lama di rumah sakit coba saja snmptn mu berharaplah portofolio akademik yang mengiringi rapormu bisa membantu 2 prestasi non akademik selain pretasi akademik seleksi snmptn juga akan menimbang prestasimu dibidang non akademik pernah ikut dan jadi juara debat juara lomba tari tradisional atau modern scan dan lantas lampirkan saja semua sertifikat atau piagam non akdemik yang pernah kamu peroleh bukti bukti prestasi non akademik ini bisa jadi nilai tambah yang tak terduga 3 trik mengurutkan pilihan jurusan yang tak kalah penting adalah memperhatikan bagaimana kamu menentukan pilihan jurusan untuk seleksi snmptn kalau kamu anak ipa jangan pilih jurusan ips begitu juga sebaliknya kemudian urutkan jurusan impianmu pada pilihan pertama pilihan kedua sesuaikan dengan bidang jurusan sekolahmu dan untuk pilihan ketiga carilah jurusan dengan daya saing rendah tentunya semua pilihan musti menarik buat kamu ingat jangan sampai nantinya kamu menyesal dan merasa salah jurusan saat menjalani pilihan kedua atau ketiga 4 kepoin kemana alumni sekolahmu peluang lolos seleksi snmptn akan semakin besar kalau kamu memilih universitas dan jurusan dimana kakak kakak kelasmu dulu banyak yang diterima juga disitu coba kepo ke kakak teman temanmu atau ke bk kalau kebetulan universitas atau jurusan favorit alumni sekolahmu itu juga menarik minatmu kamu beruntung dan siapa tahu keberuntunganmu memang berlanjut dengan diterimanya kamu di universitas dan jurusan yang kamu inginkan makanya jangan patah semangat dengan nilai rapor yang terasa kurang meyakinkan coba saja dulu '"
      ]
     },
     "execution_count": 19,
     "metadata": {},
     "output_type": "execute_result"
    }
   ],
   "source": [
    "normalize(data.content.values[0])"
   ]
  }
 ],
 "metadata": {
  "kernelspec": {
   "display_name": "Python 3",
   "language": "python",
   "name": "python3"
  },
  "language_info": {
   "codemirror_mode": {
    "name": "ipython",
    "version": 3
   },
   "file_extension": ".py",
   "mimetype": "text/x-python",
   "name": "python",
   "nbconvert_exporter": "python",
   "pygments_lexer": "ipython3",
   "version": "3.6.9"
  }
 },
 "nbformat": 4,
 "nbformat_minor": 2
}
